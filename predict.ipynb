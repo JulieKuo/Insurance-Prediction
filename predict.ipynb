{
 "cells": [
  {
   "cell_type": "code",
   "execution_count": 1,
   "metadata": {},
   "outputs": [],
   "source": [
    "import pandas as pd\n",
    "import numpy as np\n"
   ]
  },
  {
   "cell_type": "code",
   "execution_count": 2,
   "metadata": {
    "scrolled": false
   },
   "outputs": [
    {
     "name": "stderr",
     "output_type": "stream",
     "text": [
      "c:\\Users\\Julie\\Documents\\Python\\.venv\\lib\\site-packages\\IPython\\core\\interactiveshell.py:3444: DtypeWarning: Columns (17,21,22) have mixed types.Specify dtype option on import or set low_memory=False.\n",
      "  exec(code_obj, self.user_global_ns, self.user_ns)\n"
     ]
    }
   ],
   "source": [
    "train = pd.read_csv(\"train.csv\",encoding='big5')\n",
    "test = pd.read_csv(\"test.csv\",encoding='big5')"
   ]
  },
  {
   "cell_type": "code",
   "execution_count": 3,
   "metadata": {
    "scrolled": true
   },
   "outputs": [
    {
     "name": "stdout",
     "output_type": "stream",
     "text": [
      "<class 'pandas.core.frame.DataFrame'>\n",
      "RangeIndex: 100000 entries, 0 to 99999\n",
      "Columns: 132 entries, CUS_ID to Y1\n",
      "dtypes: float64(30), int64(12), object(90)\n",
      "memory usage: 100.7+ MB\n"
     ]
    }
   ],
   "source": [
    "train.info()#sample有100000"
   ]
  },
  {
   "cell_type": "code",
   "execution_count": 4,
   "metadata": {},
   "outputs": [
    {
     "name": "stdout",
     "output_type": "stream",
     "text": [
      "<class 'pandas.core.frame.DataFrame'>\n",
      "RangeIndex: 150000 entries, 0 to 149999\n",
      "Columns: 131 entries, CUS_ID to FINANCETOOLS_G\n",
      "dtypes: float64(30), int64(12), object(89)\n",
      "memory usage: 149.9+ MB\n"
     ]
    }
   ],
   "source": [
    "test.info()#sample有150000"
   ]
  },
  {
   "cell_type": "markdown",
   "metadata": {},
   "source": [
    "# 前處理"
   ]
  },
  {
   "cell_type": "code",
   "execution_count": 5,
   "metadata": {
    "scrolled": true
   },
   "outputs": [],
   "source": [
    "dataset=pd.concat([train,test])#將train&test組合\n",
    "dataset = dataset.reset_index(drop=True)#重新排列順序"
   ]
  },
  {
   "cell_type": "code",
   "execution_count": 6,
   "metadata": {},
   "outputs": [],
   "source": [
    "#先將Y1轉換成label\n",
    "dataset['Y1']=dataset['Y1'].replace('N',0)\n",
    "dataset['Y1']=dataset['Y1'].replace('Y',1)"
   ]
  },
  {
   "cell_type": "code",
   "execution_count": 7,
   "metadata": {},
   "outputs": [
    {
     "data": {
      "text/html": [
       "<div>\n",
       "<style scoped>\n",
       "    .dataframe tbody tr th:only-of-type {\n",
       "        vertical-align: middle;\n",
       "    }\n",
       "\n",
       "    .dataframe tbody tr th {\n",
       "        vertical-align: top;\n",
       "    }\n",
       "\n",
       "    .dataframe thead th {\n",
       "        text-align: right;\n",
       "    }\n",
       "</style>\n",
       "<table border=\"1\" class=\"dataframe\">\n",
       "  <thead>\n",
       "    <tr style=\"text-align: right;\">\n",
       "      <th></th>\n",
       "      <th>CUS_ID</th>\n",
       "      <th>GENDER</th>\n",
       "      <th>AGE</th>\n",
       "      <th>CHARGE_CITY_CD</th>\n",
       "      <th>CONTACT_CITY_CD</th>\n",
       "      <th>EDUCATION_CD</th>\n",
       "      <th>MARRIAGE_CD</th>\n",
       "      <th>LAST_A_CCONTACT_DT</th>\n",
       "      <th>L1YR_A_ISSUE_CNT</th>\n",
       "      <th>LAST_A_ISSUE_DT</th>\n",
       "      <th>...</th>\n",
       "      <th>IF_ADD_INSD_IND</th>\n",
       "      <th>L1YR_GROSS_PRE_AMT</th>\n",
       "      <th>CUST_9_SEGMENTS_CD</th>\n",
       "      <th>FINANCETOOLS_A</th>\n",
       "      <th>FINANCETOOLS_B</th>\n",
       "      <th>FINANCETOOLS_C</th>\n",
       "      <th>FINANCETOOLS_D</th>\n",
       "      <th>FINANCETOOLS_E</th>\n",
       "      <th>FINANCETOOLS_F</th>\n",
       "      <th>FINANCETOOLS_G</th>\n",
       "    </tr>\n",
       "  </thead>\n",
       "  <tbody>\n",
       "    <tr>\n",
       "      <th>0</th>\n",
       "      <td>3418</td>\n",
       "      <td>M</td>\n",
       "      <td>低</td>\n",
       "      <td>A1</td>\n",
       "      <td>A1</td>\n",
       "      <td>NaN</td>\n",
       "      <td>NaN</td>\n",
       "      <td>Y</td>\n",
       "      <td>0</td>\n",
       "      <td>N</td>\n",
       "      <td>...</td>\n",
       "      <td>N</td>\n",
       "      <td>0.000174</td>\n",
       "      <td>C</td>\n",
       "      <td>NaN</td>\n",
       "      <td>NaN</td>\n",
       "      <td>NaN</td>\n",
       "      <td>NaN</td>\n",
       "      <td>NaN</td>\n",
       "      <td>NaN</td>\n",
       "      <td>NaN</td>\n",
       "    </tr>\n",
       "    <tr>\n",
       "      <th>1</th>\n",
       "      <td>4302</td>\n",
       "      <td>M</td>\n",
       "      <td>低</td>\n",
       "      <td>A1</td>\n",
       "      <td>A1</td>\n",
       "      <td>NaN</td>\n",
       "      <td>NaN</td>\n",
       "      <td>Y</td>\n",
       "      <td>0</td>\n",
       "      <td>N</td>\n",
       "      <td>...</td>\n",
       "      <td>N</td>\n",
       "      <td>0.008724</td>\n",
       "      <td>A</td>\n",
       "      <td>NaN</td>\n",
       "      <td>NaN</td>\n",
       "      <td>NaN</td>\n",
       "      <td>NaN</td>\n",
       "      <td>NaN</td>\n",
       "      <td>NaN</td>\n",
       "      <td>NaN</td>\n",
       "    </tr>\n",
       "    <tr>\n",
       "      <th>2</th>\n",
       "      <td>5545</td>\n",
       "      <td>M</td>\n",
       "      <td>低</td>\n",
       "      <td>A1</td>\n",
       "      <td>A1</td>\n",
       "      <td>1.0</td>\n",
       "      <td>0.0</td>\n",
       "      <td>Y</td>\n",
       "      <td>1</td>\n",
       "      <td>Y</td>\n",
       "      <td>...</td>\n",
       "      <td>N</td>\n",
       "      <td>0.005359</td>\n",
       "      <td>A</td>\n",
       "      <td>Y</td>\n",
       "      <td>N</td>\n",
       "      <td>N</td>\n",
       "      <td>N</td>\n",
       "      <td>N</td>\n",
       "      <td>N</td>\n",
       "      <td>N</td>\n",
       "    </tr>\n",
       "    <tr>\n",
       "      <th>3</th>\n",
       "      <td>7207</td>\n",
       "      <td>M</td>\n",
       "      <td>低</td>\n",
       "      <td>A1</td>\n",
       "      <td>A1</td>\n",
       "      <td>NaN</td>\n",
       "      <td>0.0</td>\n",
       "      <td>Y</td>\n",
       "      <td>0</td>\n",
       "      <td>N</td>\n",
       "      <td>...</td>\n",
       "      <td>N</td>\n",
       "      <td>0.000000</td>\n",
       "      <td>C</td>\n",
       "      <td>NaN</td>\n",
       "      <td>NaN</td>\n",
       "      <td>NaN</td>\n",
       "      <td>NaN</td>\n",
       "      <td>NaN</td>\n",
       "      <td>NaN</td>\n",
       "      <td>NaN</td>\n",
       "    </tr>\n",
       "    <tr>\n",
       "      <th>4</th>\n",
       "      <td>7213</td>\n",
       "      <td>M</td>\n",
       "      <td>低</td>\n",
       "      <td>A1</td>\n",
       "      <td>A1</td>\n",
       "      <td>1.0</td>\n",
       "      <td>0.0</td>\n",
       "      <td>N</td>\n",
       "      <td>0</td>\n",
       "      <td>N</td>\n",
       "      <td>...</td>\n",
       "      <td>N</td>\n",
       "      <td>0.000603</td>\n",
       "      <td>C</td>\n",
       "      <td>NaN</td>\n",
       "      <td>NaN</td>\n",
       "      <td>NaN</td>\n",
       "      <td>NaN</td>\n",
       "      <td>NaN</td>\n",
       "      <td>NaN</td>\n",
       "      <td>NaN</td>\n",
       "    </tr>\n",
       "  </tbody>\n",
       "</table>\n",
       "<p>5 rows × 131 columns</p>\n",
       "</div>"
      ],
      "text/plain": [
       "   CUS_ID GENDER AGE CHARGE_CITY_CD CONTACT_CITY_CD  EDUCATION_CD  \\\n",
       "0    3418      M   低             A1              A1           NaN   \n",
       "1    4302      M   低             A1              A1           NaN   \n",
       "2    5545      M   低             A1              A1           1.0   \n",
       "3    7207      M   低             A1              A1           NaN   \n",
       "4    7213      M   低             A1              A1           1.0   \n",
       "\n",
       "   MARRIAGE_CD LAST_A_CCONTACT_DT  L1YR_A_ISSUE_CNT LAST_A_ISSUE_DT  ...  \\\n",
       "0          NaN                  Y                 0               N  ...   \n",
       "1          NaN                  Y                 0               N  ...   \n",
       "2          0.0                  Y                 1               Y  ...   \n",
       "3          0.0                  Y                 0               N  ...   \n",
       "4          0.0                  N                 0               N  ...   \n",
       "\n",
       "   IF_ADD_INSD_IND L1YR_GROSS_PRE_AMT  CUST_9_SEGMENTS_CD  FINANCETOOLS_A  \\\n",
       "0                N           0.000174                   C             NaN   \n",
       "1                N           0.008724                   A             NaN   \n",
       "2                N           0.005359                   A               Y   \n",
       "3                N           0.000000                   C             NaN   \n",
       "4                N           0.000603                   C             NaN   \n",
       "\n",
       "   FINANCETOOLS_B  FINANCETOOLS_C  FINANCETOOLS_D FINANCETOOLS_E  \\\n",
       "0             NaN             NaN             NaN            NaN   \n",
       "1             NaN             NaN             NaN            NaN   \n",
       "2               N               N               N              N   \n",
       "3             NaN             NaN             NaN            NaN   \n",
       "4             NaN             NaN             NaN            NaN   \n",
       "\n",
       "  FINANCETOOLS_F FINANCETOOLS_G  \n",
       "0            NaN            NaN  \n",
       "1            NaN            NaN  \n",
       "2              N              N  \n",
       "3            NaN            NaN  \n",
       "4            NaN            NaN  \n",
       "\n",
       "[5 rows x 131 columns]"
      ]
     },
     "execution_count": 7,
     "metadata": {},
     "output_type": "execute_result"
    }
   ],
   "source": [
    "#砍掉Y1\n",
    "data=dataset.iloc[:,:-1]\n",
    "data.head()"
   ]
  },
  {
   "cell_type": "code",
   "execution_count": 8,
   "metadata": {},
   "outputs": [
    {
     "data": {
      "text/plain": [
       "0    0.0\n",
       "1    0.0\n",
       "2    0.0\n",
       "3    0.0\n",
       "4    0.0\n",
       "Name: Y1, dtype: float64"
      ]
     },
     "execution_count": 8,
     "metadata": {},
     "output_type": "execute_result"
    }
   ],
   "source": [
    "#拉出Y1\n",
    "y=dataset.iloc[:,-1]\n",
    "y.head()"
   ]
  },
  {
   "cell_type": "code",
   "execution_count": 9,
   "metadata": {
    "scrolled": true
   },
   "outputs": [
    {
     "data": {
      "text/html": [
       "<div>\n",
       "<style scoped>\n",
       "    .dataframe tbody tr th:only-of-type {\n",
       "        vertical-align: middle;\n",
       "    }\n",
       "\n",
       "    .dataframe tbody tr th {\n",
       "        vertical-align: top;\n",
       "    }\n",
       "\n",
       "    .dataframe thead th {\n",
       "        text-align: right;\n",
       "    }\n",
       "</style>\n",
       "<table border=\"1\" class=\"dataframe\">\n",
       "  <thead>\n",
       "    <tr style=\"text-align: right;\">\n",
       "      <th></th>\n",
       "      <th>Missing Ratio</th>\n",
       "    </tr>\n",
       "  </thead>\n",
       "  <tbody>\n",
       "    <tr>\n",
       "      <th>L1YR_C_CNT</th>\n",
       "      <td>88.0312</td>\n",
       "    </tr>\n",
       "    <tr>\n",
       "      <th>A_IND</th>\n",
       "      <td>79.3968</td>\n",
       "    </tr>\n",
       "    <tr>\n",
       "      <th>C_IND</th>\n",
       "      <td>79.3968</td>\n",
       "    </tr>\n",
       "    <tr>\n",
       "      <th>B_IND</th>\n",
       "      <td>79.3968</td>\n",
       "    </tr>\n",
       "    <tr>\n",
       "      <th>FINANCETOOLS_A</th>\n",
       "      <td>62.4648</td>\n",
       "    </tr>\n",
       "    <tr>\n",
       "      <th>...</th>\n",
       "      <td>...</td>\n",
       "    </tr>\n",
       "    <tr>\n",
       "      <th>X_A_IND</th>\n",
       "      <td>0.0208</td>\n",
       "    </tr>\n",
       "    <tr>\n",
       "      <th>X_F_IND</th>\n",
       "      <td>0.0208</td>\n",
       "    </tr>\n",
       "    <tr>\n",
       "      <th>X_H_IND</th>\n",
       "      <td>0.0208</td>\n",
       "    </tr>\n",
       "    <tr>\n",
       "      <th>X_G_IND</th>\n",
       "      <td>0.0208</td>\n",
       "    </tr>\n",
       "    <tr>\n",
       "      <th>X_D_IND</th>\n",
       "      <td>0.0208</td>\n",
       "    </tr>\n",
       "  </tbody>\n",
       "</table>\n",
       "<p>73 rows × 1 columns</p>\n",
       "</div>"
      ],
      "text/plain": [
       "                Missing Ratio\n",
       "L1YR_C_CNT            88.0312\n",
       "A_IND                 79.3968\n",
       "C_IND                 79.3968\n",
       "B_IND                 79.3968\n",
       "FINANCETOOLS_A        62.4648\n",
       "...                       ...\n",
       "X_A_IND                0.0208\n",
       "X_F_IND                0.0208\n",
       "X_H_IND                0.0208\n",
       "X_G_IND                0.0208\n",
       "X_D_IND                0.0208\n",
       "\n",
       "[73 rows x 1 columns]"
      ]
     },
     "execution_count": 9,
     "metadata": {},
     "output_type": "execute_result"
    }
   ],
   "source": [
    "#缺失值佔整個feature的比率\n",
    "all_data_na = (data.isnull().sum() /len(data) ) * 100\n",
    "all_data_na = all_data_na.drop(all_data_na[all_data_na == 0].index).sort_values(ascending=False)[:100]\n",
    "missing_data = pd.DataFrame({'Missing Ratio' :all_data_na})\n",
    "missing_data"
   ]
  },
  {
   "cell_type": "code",
   "execution_count": 10,
   "metadata": {
    "scrolled": true
   },
   "outputs": [
    {
     "data": {
      "text/html": [
       "<div>\n",
       "<style scoped>\n",
       "    .dataframe tbody tr th:only-of-type {\n",
       "        vertical-align: middle;\n",
       "    }\n",
       "\n",
       "    .dataframe tbody tr th {\n",
       "        vertical-align: top;\n",
       "    }\n",
       "\n",
       "    .dataframe thead th {\n",
       "        text-align: right;\n",
       "    }\n",
       "</style>\n",
       "<table border=\"1\" class=\"dataframe\">\n",
       "  <thead>\n",
       "    <tr style=\"text-align: right;\">\n",
       "      <th></th>\n",
       "      <th>0</th>\n",
       "      <th>1</th>\n",
       "      <th>2</th>\n",
       "      <th>3</th>\n",
       "      <th>4</th>\n",
       "    </tr>\n",
       "  </thead>\n",
       "  <tbody>\n",
       "    <tr>\n",
       "      <th>CUS_ID</th>\n",
       "      <td>3418</td>\n",
       "      <td>4302</td>\n",
       "      <td>5545</td>\n",
       "      <td>7207</td>\n",
       "      <td>7213</td>\n",
       "    </tr>\n",
       "    <tr>\n",
       "      <th>GENDER</th>\n",
       "      <td>M</td>\n",
       "      <td>M</td>\n",
       "      <td>M</td>\n",
       "      <td>M</td>\n",
       "      <td>M</td>\n",
       "    </tr>\n",
       "    <tr>\n",
       "      <th>AGE</th>\n",
       "      <td>低</td>\n",
       "      <td>低</td>\n",
       "      <td>低</td>\n",
       "      <td>低</td>\n",
       "      <td>低</td>\n",
       "    </tr>\n",
       "    <tr>\n",
       "      <th>CHARGE_CITY_CD</th>\n",
       "      <td>A1</td>\n",
       "      <td>A1</td>\n",
       "      <td>A1</td>\n",
       "      <td>A1</td>\n",
       "      <td>A1</td>\n",
       "    </tr>\n",
       "    <tr>\n",
       "      <th>CONTACT_CITY_CD</th>\n",
       "      <td>A1</td>\n",
       "      <td>A1</td>\n",
       "      <td>A1</td>\n",
       "      <td>A1</td>\n",
       "      <td>A1</td>\n",
       "    </tr>\n",
       "    <tr>\n",
       "      <th>...</th>\n",
       "      <td>...</td>\n",
       "      <td>...</td>\n",
       "      <td>...</td>\n",
       "      <td>...</td>\n",
       "      <td>...</td>\n",
       "    </tr>\n",
       "    <tr>\n",
       "      <th>FINANCETOOLS_C</th>\n",
       "      <td>NaN</td>\n",
       "      <td>NaN</td>\n",
       "      <td>N</td>\n",
       "      <td>NaN</td>\n",
       "      <td>NaN</td>\n",
       "    </tr>\n",
       "    <tr>\n",
       "      <th>FINANCETOOLS_D</th>\n",
       "      <td>NaN</td>\n",
       "      <td>NaN</td>\n",
       "      <td>N</td>\n",
       "      <td>NaN</td>\n",
       "      <td>NaN</td>\n",
       "    </tr>\n",
       "    <tr>\n",
       "      <th>FINANCETOOLS_E</th>\n",
       "      <td>NaN</td>\n",
       "      <td>NaN</td>\n",
       "      <td>N</td>\n",
       "      <td>NaN</td>\n",
       "      <td>NaN</td>\n",
       "    </tr>\n",
       "    <tr>\n",
       "      <th>FINANCETOOLS_F</th>\n",
       "      <td>NaN</td>\n",
       "      <td>NaN</td>\n",
       "      <td>N</td>\n",
       "      <td>NaN</td>\n",
       "      <td>NaN</td>\n",
       "    </tr>\n",
       "    <tr>\n",
       "      <th>FINANCETOOLS_G</th>\n",
       "      <td>NaN</td>\n",
       "      <td>NaN</td>\n",
       "      <td>N</td>\n",
       "      <td>NaN</td>\n",
       "      <td>NaN</td>\n",
       "    </tr>\n",
       "  </tbody>\n",
       "</table>\n",
       "<p>131 rows × 5 columns</p>\n",
       "</div>"
      ],
      "text/plain": [
       "                    0     1     2     3     4\n",
       "CUS_ID           3418  4302  5545  7207  7213\n",
       "GENDER              M     M     M     M     M\n",
       "AGE                 低     低     低     低     低\n",
       "CHARGE_CITY_CD     A1    A1    A1    A1    A1\n",
       "CONTACT_CITY_CD    A1    A1    A1    A1    A1\n",
       "...               ...   ...   ...   ...   ...\n",
       "FINANCETOOLS_C    NaN   NaN     N   NaN   NaN\n",
       "FINANCETOOLS_D    NaN   NaN     N   NaN   NaN\n",
       "FINANCETOOLS_E    NaN   NaN     N   NaN   NaN\n",
       "FINANCETOOLS_F    NaN   NaN     N   NaN   NaN\n",
       "FINANCETOOLS_G    NaN   NaN     N   NaN   NaN\n",
       "\n",
       "[131 rows x 5 columns]"
      ]
     },
     "execution_count": 10,
     "metadata": {},
     "output_type": "execute_result"
    }
   ],
   "source": [
    "#show出有缺失值的feature\n",
    "data[data.isnull().any(axis=1)].head().T"
   ]
  },
  {
   "cell_type": "markdown",
   "metadata": {},
   "source": [
    "## 處理missing value"
   ]
  },
  {
   "cell_type": "code",
   "execution_count": 11,
   "metadata": {},
   "outputs": [],
   "source": [
    "#推測不是重要feature，先以眾數補之\n",
    "data[\"GENDER\"].fillna(data[\"GENDER\"].mode()[0], inplace = True)\n",
    "#推測1=高中，2=研究所，3=大學，4=國中(9年義務教育)，Na補眾數=3\n",
    "data['EDUCATION_CD'].fillna(3, inplace = True)\n",
    "#未找到特別關聯，先以眾數補之\n",
    "data[\"MARRIAGE_CD\"].fillna(data[\"MARRIAGE_CD\"].mode()[0], inplace = True)"
   ]
  },
  {
   "cell_type": "code",
   "execution_count": 12,
   "metadata": {},
   "outputs": [],
   "source": [
    "#未能推算如何神秘轉換，Na先補0\n",
    "data[\"APC_1ST_YEARDIF\"].fillna(0, inplace = True)"
   ]
  },
  {
   "cell_type": "code",
   "execution_count": 13,
   "metadata": {},
   "outputs": [],
   "source": [
    "#未找到特別關聯，先以眾數補之\n",
    "data[\"OCCUPATION_CLASS_CD\"].fillna(data[\"OCCUPATION_CLASS_CD\"].mode()[0], inplace = True)\n",
    "data[\"APC_1ST_AGE\"].fillna(data[\"APC_1ST_AGE\"].mode()[0], inplace = True)\n",
    "data[\"INSD_1ST_AGE\"].fillna(data['INSD_1ST_AGE'].mode()[0], inplace = True)\n",
    "#未找到特別關聯，先以眾數補之\n",
    "#等級越高，Y1=Y的機率越低，對分類做label\n",
    "data[\"RFM_R\"].fillna(data['RFM_R'].mode()[0], inplace = True)\n",
    "data['RFM_R'] = data['RFM_R'].replace('高', 0)\n",
    "data['RFM_R'] = data['RFM_R'].replace('中高', 1)\n",
    "data['RFM_R'] = data['RFM_R'].replace('中', 2)\n",
    "data['RFM_R'] = data['RFM_R'].replace('低', 3)\n",
    "#未找到特別關聯，先以眾數補之\n",
    "#等級越高，Y1=Y的機率越高，對分類做label\n",
    "data[\"REBUY_TIMES_CNT\"].fillna(data['REBUY_TIMES_CNT'].mode()[0], inplace = True)\n",
    "data['REBUY_TIMES_CNT'] = data['REBUY_TIMES_CNT'].replace('高', 3)\n",
    "data['REBUY_TIMES_CNT'] = data['REBUY_TIMES_CNT'].replace('中高', 2)\n",
    "data['REBUY_TIMES_CNT'] = data['REBUY_TIMES_CNT'].replace('中', 1)\n",
    "data['REBUY_TIMES_CNT'] = data['REBUY_TIMES_CNT'].replace('低', 0)\n",
    "#未找到特別關聯，先以眾數補之\n",
    "data[\"LEVEL\"].fillna(data['LEVEL'].mode()[0], inplace = True)\n",
    "data[\"RFM_M_LEVEL\"].fillna(data['RFM_M_LEVEL'].mode()[0], inplace = True)\n",
    "data[\"TERMINATION_RATE\"].fillna(0, inplace = True)"
   ]
  },
  {
   "cell_type": "code",
   "execution_count": 14,
   "metadata": {},
   "outputs": [],
   "source": [
    "#未能推算如何神秘轉換，Na先補0\n",
    "data[\"ANNUAL_PREMIUM_AMT\"].fillna(0, inplace = True)\n",
    "data[\"ANNUAL_INCOME_AMT\"].fillna(0, inplace = True)"
   ]
  },
  {
   "cell_type": "code",
   "execution_count": 15,
   "metadata": {},
   "outputs": [],
   "source": [
    "#Y1=Y時，$_IND=Y的比重太小，故選眾數=N\n",
    "#Na只有52個，可考慮刪除\n",
    "data[\"A_IND\"].fillna('N', inplace = True)\n",
    "data[\"B_IND\"].fillna('N', inplace = True)\n",
    "data[\"C_IND\"].fillna('N', inplace = True)"
   ]
  },
  {
   "cell_type": "code",
   "execution_count": 16,
   "metadata": {},
   "outputs": [],
   "source": [
    "#三年內皆無到C通路申辦(LAST_C_DT=N)，L1YR_C_CNT就不會有申辦次數，所以Na=0\n",
    "#三年內若有到C通路申辦(LAST_C_DT=N)，L1YR_C_CNT的眾數為1，估計近一年至少有一次到訪，所以Na=1\n",
    "data.loc[data['LAST_C_DT']=='N','L1YR_C_CNT'] = 0\n",
    "data['L1YR_C_CNT'].fillna(1, inplace = True)"
   ]
  },
  {
   "cell_type": "code",
   "execution_count": 17,
   "metadata": {},
   "outputs": [],
   "source": [
    "#未能推算如何神秘轉換，Na先補0(眾數)\n",
    "data[\"INSD_LAST_YEARDIF_CNT\"].fillna(0, inplace = True)\n",
    "#未能推算如何神秘轉換，但數據有級距，先以眾數補之\n",
    "data[\"BMI\"].fillna(data[\"BMI\"].mode()[0], inplace = True)"
   ]
  },
  {
   "cell_type": "code",
   "execution_count": 18,
   "metadata": {},
   "outputs": [],
   "source": [
    "#未能推算如何神秘轉換，Na先補0\n",
    "data[\"DIEBENEFIT_AMT\"].fillna(0, inplace = True)\n",
    "data[\"DIEACCIDENT_AMT\"].fillna(0, inplace = True)\n",
    "data[\"POLICY_VALUE_AMT\"].fillna(0, inplace = True)\n",
    "data[\"ANNUITY_AMT\"].fillna(0, inplace = True)\n",
    "data[\"EXPIRATION_AMT\"].fillna(0, inplace = True)\n",
    "data[\"ACCIDENT_HOSPITAL_REC_AMT\"].fillna(0, inplace = True)\n",
    "data[\"DISEASES_HOSPITAL_REC_AMT\"].fillna(0, inplace = True)\n",
    "data[\"OUTPATIENT_SURGERY_AMT\"].fillna(0, inplace = True)\n",
    "data[\"INPATIENT_SURGERY_AMT\"].fillna(0, inplace = True)\n",
    "data[\"PAY_LIMIT_MED_MISC_AMT\"].fillna(0, inplace = True)\n",
    "data[\"FIRST_CANCER_AMT\"].fillna(0, inplace = True)\n",
    "data[\"ILL_ACCELERATION_AMT\"].fillna(0, inplace = True)\n",
    "data[\"ILL_ADDITIONAL_AMT\"].fillna(0, inplace = True)\n",
    "data[\"LONG_TERM_CARE_AMT\"].fillna(0, inplace = True)\n",
    "data[\"MONTHLY_CARE_AMT\"].fillna(0, inplace = True)"
   ]
  },
  {
   "cell_type": "code",
   "execution_count": 19,
   "metadata": {},
   "outputs": [
    {
     "name": "stdout",
     "output_type": "stream",
     "text": [
      "['X_A_IND', 'X_B_IND', 'X_C_IND', 'X_D_IND', 'X_E_IND', 'X_F_IND', 'X_G_IND', 'X_H_IND']\n"
     ]
    }
   ],
   "source": [
    "capital = ['A','B','C','D','E','F','G','H']\n",
    "X_IND = []\n",
    "for i in range(0,len(capital)):\n",
    "    X_IND.append('X_' + str(capital[i]) + '_IND')\n",
    "print(X_IND)\n",
    "#X_$_IND=Y時，Y1=Y的機率極低，全X_$_IND都=Y時也是，估計關連不大，故選眾數N\n",
    "for i in range(0,len(X_IND)):\n",
    "    data[X_IND[i]].fillna('N', inplace = True)"
   ]
  },
  {
   "cell_type": "code",
   "execution_count": 20,
   "metadata": {},
   "outputs": [
    {
     "name": "stdout",
     "output_type": "stream",
     "text": [
      "['IF_ISSUE_INSD_A_IND', 'IF_ISSUE_INSD_B_IND', 'IF_ISSUE_INSD_C_IND', 'IF_ISSUE_INSD_D_IND', 'IF_ISSUE_INSD_E_IND', 'IF_ISSUE_INSD_F_IND', 'IF_ISSUE_INSD_G_IND', 'IF_ISSUE_INSD_H_IND', 'IF_ISSUE_INSD_I_IND', 'IF_ISSUE_INSD_J_IND', 'IF_ISSUE_INSD_K_IND', 'IF_ISSUE_INSD_L_IND', 'IF_ISSUE_INSD_M_IND', 'IF_ISSUE_INSD_N_IND', 'IF_ISSUE_INSD_O_IND', 'IF_ISSUE_INSD_P_IND', 'IF_ISSUE_INSD_Q_IND']\n"
     ]
    }
   ],
   "source": [
    "capital = ['A','B','C','D','E','F','G','H','I','J','K','L','M','N','O','P','Q']\n",
    "IF_ISSUE_INSD_IND = []\n",
    "for i in range(0,len(capital)):\n",
    "    IF_ISSUE_INSD_IND.append('IF_ISSUE_INSD_' + str(capital[i]) + '_IND')\n",
    "print(IF_ISSUE_INSD_IND)\n",
    "#未找到特別關聯，先以眾數補之\n",
    "for i in range(0,len(IF_ISSUE_INSD_IND)):\n",
    "    data[IF_ISSUE_INSD_IND[i]].fillna(data[IF_ISSUE_INSD_IND[i]].mode()[0], inplace = True)"
   ]
  },
  {
   "cell_type": "code",
   "execution_count": 21,
   "metadata": {},
   "outputs": [
    {
     "name": "stdout",
     "output_type": "stream",
     "text": [
      "['IF_ADD_INSD_F_IND', 'IF_ADD_INSD_L_IND', 'IF_ADD_INSD_Q_IND', 'IF_ADD_INSD_G_IND', 'IF_ADD_INSD_R_IND']\n"
     ]
    }
   ],
   "source": [
    "capital = ['F','L','Q','G','R']\n",
    "IF_ADD_INSD_IND = []\n",
    "for i in range(0,len(capital)):\n",
    "    IF_ADD_INSD_IND.append('IF_ADD_INSD_' + str(capital[i]) + '_IND')\n",
    "print(IF_ADD_INSD_IND)\n",
    "#未找到特別關聯，先以眾數補之\n",
    "for i in range(0,len(IF_ADD_INSD_IND)):\n",
    "    data[IF_ADD_INSD_IND[i]].fillna(data[IF_ADD_INSD_IND[i]].mode()[0], inplace = True)"
   ]
  },
  {
   "cell_type": "code",
   "execution_count": 22,
   "metadata": {},
   "outputs": [],
   "source": [
    "#未找到特別關聯，先以眾數補之\n",
    "#Na只有172個，可考慮刪除\n",
    "data['IF_ADD_INSD_IND'].fillna(data['IF_ADD_INSD_IND'].mode()[0], inplace = True)"
   ]
  },
  {
   "cell_type": "code",
   "execution_count": 23,
   "metadata": {},
   "outputs": [],
   "source": [
    "#Y1=N、Y時，FINANCETOOLS_A的Y都最多\n",
    "data[\"FINANCETOOLS_A\"].fillna('Y', inplace = True)\n",
    "#Y1=N、Y時，FINANCETOOLS_$的N都最多\n",
    "data[\"FINANCETOOLS_B\"].fillna('N', inplace = True)\n",
    "data[\"FINANCETOOLS_C\"].fillna('N', inplace = True)\n",
    "data[\"FINANCETOOLS_D\"].fillna('N', inplace = True)\n",
    "data[\"FINANCETOOLS_E\"].fillna('N', inplace = True)\n",
    "data[\"FINANCETOOLS_F\"].fillna('N', inplace = True)\n",
    "data[\"FINANCETOOLS_G\"].fillna('N', inplace = True)"
   ]
  },
  {
   "cell_type": "code",
   "execution_count": 24,
   "metadata": {},
   "outputs": [
    {
     "data": {
      "text/html": [
       "<div>\n",
       "<style scoped>\n",
       "    .dataframe tbody tr th:only-of-type {\n",
       "        vertical-align: middle;\n",
       "    }\n",
       "\n",
       "    .dataframe tbody tr th {\n",
       "        vertical-align: top;\n",
       "    }\n",
       "\n",
       "    .dataframe thead th {\n",
       "        text-align: right;\n",
       "    }\n",
       "</style>\n",
       "<table border=\"1\" class=\"dataframe\">\n",
       "  <thead>\n",
       "    <tr style=\"text-align: right;\">\n",
       "      <th></th>\n",
       "      <th>Missing Ratio</th>\n",
       "    </tr>\n",
       "  </thead>\n",
       "  <tbody>\n",
       "  </tbody>\n",
       "</table>\n",
       "</div>"
      ],
      "text/plain": [
       "Empty DataFrame\n",
       "Columns: [Missing Ratio]\n",
       "Index: []"
      ]
     },
     "execution_count": 24,
     "metadata": {},
     "output_type": "execute_result"
    }
   ],
   "source": [
    "all_data_na = (data.isnull().sum() /len(data) ) * 100\n",
    "all_data_na = all_data_na.drop(all_data_na[all_data_na == 0].index).sort_values(ascending=False)[:100]\n",
    "missing_data = pd.DataFrame({'Missing Ratio' :all_data_na})\n",
    "missing_data"
   ]
  },
  {
   "cell_type": "markdown",
   "metadata": {},
   "source": [
    "# 做labal&onehot轉換"
   ]
  },
  {
   "cell_type": "code",
   "execution_count": 25,
   "metadata": {},
   "outputs": [],
   "source": [
    "#等級越高，Y1=Y的機率越高，對分類做label\n",
    "data['LIFE_CNT'] = data['LIFE_CNT'].replace('高', 2)\n",
    "data['LIFE_CNT'] = data['LIFE_CNT'].replace('中', 1)\n",
    "data['LIFE_CNT'] = data['LIFE_CNT'].replace('低', 0)"
   ]
  },
  {
   "cell_type": "code",
   "execution_count": 26,
   "metadata": {},
   "outputs": [],
   "source": [
    "onehot_encoder_feature = ['GENDER','AGE','CHARGE_CITY_CD','CONTACT_CITY_CD','EDUCATION_CD','MARRIAGE_CD',\\\n",
    "                          'OCCUPATION_CLASS_CD','APC_1ST_AGE','INSD_1ST_AGE','IM_CNT','CUST_9_SEGMENTS_CD']"
   ]
  },
  {
   "cell_type": "code",
   "execution_count": 27,
   "metadata": {
    "scrolled": true
   },
   "outputs": [],
   "source": [
    "#抓出data裡屬於object的column\n",
    "object_column = data.loc[:,data.dtypes==object].head()\n",
    "label_encoder_feature = list(object_column)"
   ]
  },
  {
   "cell_type": "code",
   "execution_count": 28,
   "metadata": {
    "scrolled": true
   },
   "outputs": [
    {
     "data": {
      "text/plain": [
       "88"
      ]
     },
     "execution_count": 28,
     "metadata": {},
     "output_type": "execute_result"
    }
   ],
   "source": [
    "#LEVEL&RFM_M_LEVEL要做label，但為數值，為抓取到\n",
    "label_encoder_feature.append('LEVEL')\n",
    "label_encoder_feature.append('RFM_M_LEVEL')\n",
    "len(label_encoder_feature)"
   ]
  },
  {
   "cell_type": "code",
   "execution_count": 29,
   "metadata": {
    "scrolled": true
   },
   "outputs": [
    {
     "data": {
      "text/plain": [
       "['LAST_A_CCONTACT_DT',\n",
       " 'LAST_A_ISSUE_DT',\n",
       " 'LAST_B_ISSUE_DT',\n",
       " 'IF_2ND_GEN_IND',\n",
       " 'IF_ISSUE_A_IND',\n",
       " 'IF_ISSUE_B_IND',\n",
       " 'IF_ISSUE_C_IND',\n",
       " 'IF_ISSUE_D_IND',\n",
       " 'IF_ISSUE_E_IND',\n",
       " 'IF_ISSUE_F_IND',\n",
       " 'IF_ISSUE_G_IND',\n",
       " 'IF_ISSUE_H_IND',\n",
       " 'IF_ISSUE_I_IND',\n",
       " 'IF_ISSUE_J_IND',\n",
       " 'IF_ISSUE_K_IND',\n",
       " 'IF_ISSUE_L_IND',\n",
       " 'IF_ISSUE_M_IND',\n",
       " 'IF_ISSUE_N_IND',\n",
       " 'IF_ISSUE_O_IND',\n",
       " 'IF_ISSUE_P_IND',\n",
       " 'IF_ISSUE_Q_IND',\n",
       " 'IF_ADD_F_IND',\n",
       " 'IF_ADD_L_IND',\n",
       " 'IF_ADD_Q_IND',\n",
       " 'IF_ADD_G_IND',\n",
       " 'IF_ADD_R_IND',\n",
       " 'IF_ADD_IND',\n",
       " 'L1YR_PAYMENT_REMINDER_IND',\n",
       " 'L1YR_LAPSE_IND',\n",
       " 'LAST_B_CONTACT_DT',\n",
       " 'A_IND',\n",
       " 'B_IND',\n",
       " 'C_IND',\n",
       " 'LAST_C_DT',\n",
       " 'IF_S_REAL_IND',\n",
       " 'IF_Y_REAL_IND',\n",
       " 'IM_IS_A_IND',\n",
       " 'IM_IS_B_IND',\n",
       " 'IM_IS_C_IND',\n",
       " 'IM_IS_D_IND',\n",
       " 'X_A_IND',\n",
       " 'X_B_IND',\n",
       " 'X_C_IND',\n",
       " 'X_D_IND',\n",
       " 'X_E_IND',\n",
       " 'X_F_IND',\n",
       " 'X_G_IND',\n",
       " 'X_H_IND',\n",
       " 'IF_HOUSEHOLD_CLAIM_IND',\n",
       " 'IF_ISSUE_INSD_A_IND',\n",
       " 'IF_ISSUE_INSD_B_IND',\n",
       " 'IF_ISSUE_INSD_C_IND',\n",
       " 'IF_ISSUE_INSD_D_IND',\n",
       " 'IF_ISSUE_INSD_E_IND',\n",
       " 'IF_ISSUE_INSD_F_IND',\n",
       " 'IF_ISSUE_INSD_G_IND',\n",
       " 'IF_ISSUE_INSD_H_IND',\n",
       " 'IF_ISSUE_INSD_I_IND',\n",
       " 'IF_ISSUE_INSD_J_IND',\n",
       " 'IF_ISSUE_INSD_K_IND',\n",
       " 'IF_ISSUE_INSD_L_IND',\n",
       " 'IF_ISSUE_INSD_M_IND',\n",
       " 'IF_ISSUE_INSD_N_IND',\n",
       " 'IF_ISSUE_INSD_O_IND',\n",
       " 'IF_ISSUE_INSD_P_IND',\n",
       " 'IF_ISSUE_INSD_Q_IND',\n",
       " 'IF_ADD_INSD_F_IND',\n",
       " 'IF_ADD_INSD_L_IND',\n",
       " 'IF_ADD_INSD_Q_IND',\n",
       " 'IF_ADD_INSD_G_IND',\n",
       " 'IF_ADD_INSD_R_IND',\n",
       " 'IF_ADD_INSD_IND',\n",
       " 'FINANCETOOLS_A',\n",
       " 'FINANCETOOLS_B',\n",
       " 'FINANCETOOLS_C',\n",
       " 'FINANCETOOLS_D',\n",
       " 'FINANCETOOLS_E',\n",
       " 'FINANCETOOLS_F',\n",
       " 'FINANCETOOLS_G',\n",
       " 'LEVEL',\n",
       " 'RFM_M_LEVEL']"
      ]
     },
     "execution_count": 29,
     "metadata": {},
     "output_type": "execute_result"
    }
   ],
   "source": [
    "#把label_encoder_feature裡要做onehot的feature刪除\n",
    "column = ['GENDER','AGE','CHARGE_CITY_CD','CONTACT_CITY_CD','APC_1ST_AGE','INSD_1ST_AGE','CUST_9_SEGMENTS_CD']\n",
    "for i  in range(0,len(column)):\n",
    "    label_encoder_feature.remove(column[i])\n",
    "label_encoder_feature"
   ]
  },
  {
   "cell_type": "code",
   "execution_count": 30,
   "metadata": {},
   "outputs": [
    {
     "data": {
      "text/html": [
       "<div>\n",
       "<style scoped>\n",
       "    .dataframe tbody tr th:only-of-type {\n",
       "        vertical-align: middle;\n",
       "    }\n",
       "\n",
       "    .dataframe tbody tr th {\n",
       "        vertical-align: top;\n",
       "    }\n",
       "\n",
       "    .dataframe thead th {\n",
       "        text-align: right;\n",
       "    }\n",
       "</style>\n",
       "<table border=\"1\" class=\"dataframe\">\n",
       "  <thead>\n",
       "    <tr style=\"text-align: right;\">\n",
       "      <th></th>\n",
       "      <th>CUS_ID</th>\n",
       "      <th>GENDER</th>\n",
       "      <th>AGE</th>\n",
       "      <th>CHARGE_CITY_CD</th>\n",
       "      <th>CONTACT_CITY_CD</th>\n",
       "      <th>EDUCATION_CD</th>\n",
       "      <th>MARRIAGE_CD</th>\n",
       "      <th>LAST_A_CCONTACT_DT</th>\n",
       "      <th>L1YR_A_ISSUE_CNT</th>\n",
       "      <th>LAST_A_ISSUE_DT</th>\n",
       "      <th>...</th>\n",
       "      <th>IF_ADD_INSD_IND</th>\n",
       "      <th>L1YR_GROSS_PRE_AMT</th>\n",
       "      <th>CUST_9_SEGMENTS_CD</th>\n",
       "      <th>FINANCETOOLS_A</th>\n",
       "      <th>FINANCETOOLS_B</th>\n",
       "      <th>FINANCETOOLS_C</th>\n",
       "      <th>FINANCETOOLS_D</th>\n",
       "      <th>FINANCETOOLS_E</th>\n",
       "      <th>FINANCETOOLS_F</th>\n",
       "      <th>FINANCETOOLS_G</th>\n",
       "    </tr>\n",
       "  </thead>\n",
       "  <tbody>\n",
       "    <tr>\n",
       "      <th>0</th>\n",
       "      <td>3418</td>\n",
       "      <td>M</td>\n",
       "      <td>低</td>\n",
       "      <td>A1</td>\n",
       "      <td>A1</td>\n",
       "      <td>3.0</td>\n",
       "      <td>0.0</td>\n",
       "      <td>1</td>\n",
       "      <td>0</td>\n",
       "      <td>0</td>\n",
       "      <td>...</td>\n",
       "      <td>0</td>\n",
       "      <td>0.000174</td>\n",
       "      <td>C</td>\n",
       "      <td>1</td>\n",
       "      <td>0</td>\n",
       "      <td>0</td>\n",
       "      <td>0</td>\n",
       "      <td>0</td>\n",
       "      <td>0</td>\n",
       "      <td>0</td>\n",
       "    </tr>\n",
       "    <tr>\n",
       "      <th>1</th>\n",
       "      <td>4302</td>\n",
       "      <td>M</td>\n",
       "      <td>低</td>\n",
       "      <td>A1</td>\n",
       "      <td>A1</td>\n",
       "      <td>3.0</td>\n",
       "      <td>0.0</td>\n",
       "      <td>1</td>\n",
       "      <td>0</td>\n",
       "      <td>0</td>\n",
       "      <td>...</td>\n",
       "      <td>0</td>\n",
       "      <td>0.008724</td>\n",
       "      <td>A</td>\n",
       "      <td>1</td>\n",
       "      <td>0</td>\n",
       "      <td>0</td>\n",
       "      <td>0</td>\n",
       "      <td>0</td>\n",
       "      <td>0</td>\n",
       "      <td>0</td>\n",
       "    </tr>\n",
       "    <tr>\n",
       "      <th>2</th>\n",
       "      <td>5545</td>\n",
       "      <td>M</td>\n",
       "      <td>低</td>\n",
       "      <td>A1</td>\n",
       "      <td>A1</td>\n",
       "      <td>1.0</td>\n",
       "      <td>0.0</td>\n",
       "      <td>1</td>\n",
       "      <td>1</td>\n",
       "      <td>1</td>\n",
       "      <td>...</td>\n",
       "      <td>0</td>\n",
       "      <td>0.005359</td>\n",
       "      <td>A</td>\n",
       "      <td>1</td>\n",
       "      <td>0</td>\n",
       "      <td>0</td>\n",
       "      <td>0</td>\n",
       "      <td>0</td>\n",
       "      <td>0</td>\n",
       "      <td>0</td>\n",
       "    </tr>\n",
       "    <tr>\n",
       "      <th>3</th>\n",
       "      <td>7207</td>\n",
       "      <td>M</td>\n",
       "      <td>低</td>\n",
       "      <td>A1</td>\n",
       "      <td>A1</td>\n",
       "      <td>3.0</td>\n",
       "      <td>0.0</td>\n",
       "      <td>1</td>\n",
       "      <td>0</td>\n",
       "      <td>0</td>\n",
       "      <td>...</td>\n",
       "      <td>0</td>\n",
       "      <td>0.000000</td>\n",
       "      <td>C</td>\n",
       "      <td>1</td>\n",
       "      <td>0</td>\n",
       "      <td>0</td>\n",
       "      <td>0</td>\n",
       "      <td>0</td>\n",
       "      <td>0</td>\n",
       "      <td>0</td>\n",
       "    </tr>\n",
       "    <tr>\n",
       "      <th>4</th>\n",
       "      <td>7213</td>\n",
       "      <td>M</td>\n",
       "      <td>低</td>\n",
       "      <td>A1</td>\n",
       "      <td>A1</td>\n",
       "      <td>1.0</td>\n",
       "      <td>0.0</td>\n",
       "      <td>0</td>\n",
       "      <td>0</td>\n",
       "      <td>0</td>\n",
       "      <td>...</td>\n",
       "      <td>0</td>\n",
       "      <td>0.000603</td>\n",
       "      <td>C</td>\n",
       "      <td>1</td>\n",
       "      <td>0</td>\n",
       "      <td>0</td>\n",
       "      <td>0</td>\n",
       "      <td>0</td>\n",
       "      <td>0</td>\n",
       "      <td>0</td>\n",
       "    </tr>\n",
       "  </tbody>\n",
       "</table>\n",
       "<p>5 rows × 131 columns</p>\n",
       "</div>"
      ],
      "text/plain": [
       "   CUS_ID GENDER AGE CHARGE_CITY_CD CONTACT_CITY_CD  EDUCATION_CD  \\\n",
       "0    3418      M   低             A1              A1           3.0   \n",
       "1    4302      M   低             A1              A1           3.0   \n",
       "2    5545      M   低             A1              A1           1.0   \n",
       "3    7207      M   低             A1              A1           3.0   \n",
       "4    7213      M   低             A1              A1           1.0   \n",
       "\n",
       "   MARRIAGE_CD  LAST_A_CCONTACT_DT  L1YR_A_ISSUE_CNT  LAST_A_ISSUE_DT  ...  \\\n",
       "0          0.0                   1                 0                0  ...   \n",
       "1          0.0                   1                 0                0  ...   \n",
       "2          0.0                   1                 1                1  ...   \n",
       "3          0.0                   1                 0                0  ...   \n",
       "4          0.0                   0                 0                0  ...   \n",
       "\n",
       "   IF_ADD_INSD_IND  L1YR_GROSS_PRE_AMT  CUST_9_SEGMENTS_CD  FINANCETOOLS_A  \\\n",
       "0                0            0.000174                   C               1   \n",
       "1                0            0.008724                   A               1   \n",
       "2                0            0.005359                   A               1   \n",
       "3                0            0.000000                   C               1   \n",
       "4                0            0.000603                   C               1   \n",
       "\n",
       "   FINANCETOOLS_B  FINANCETOOLS_C  FINANCETOOLS_D FINANCETOOLS_E  \\\n",
       "0               0               0               0              0   \n",
       "1               0               0               0              0   \n",
       "2               0               0               0              0   \n",
       "3               0               0               0              0   \n",
       "4               0               0               0              0   \n",
       "\n",
       "  FINANCETOOLS_F  FINANCETOOLS_G  \n",
       "0              0               0  \n",
       "1              0               0  \n",
       "2              0               0  \n",
       "3              0               0  \n",
       "4              0               0  \n",
       "\n",
       "[5 rows x 131 columns]"
      ]
     },
     "execution_count": 30,
     "metadata": {},
     "output_type": "execute_result"
    }
   ],
   "source": [
    "#做label轉換\n",
    "from sklearn.preprocessing import LabelEncoder\n",
    "\n",
    "encoder1 = LabelEncoder() \n",
    "\n",
    "for i in range(0, len(label_encoder_feature)):\n",
    "    feature = label_encoder_feature[i]\n",
    "    data[feature] = encoder1.fit_transform(data[feature])\n",
    "    \n",
    "data.head()"
   ]
  },
  {
   "cell_type": "code",
   "execution_count": 31,
   "metadata": {},
   "outputs": [
    {
     "data": {
      "text/html": [
       "<div>\n",
       "<style scoped>\n",
       "    .dataframe tbody tr th:only-of-type {\n",
       "        vertical-align: middle;\n",
       "    }\n",
       "\n",
       "    .dataframe tbody tr th {\n",
       "        vertical-align: top;\n",
       "    }\n",
       "\n",
       "    .dataframe thead th {\n",
       "        text-align: right;\n",
       "    }\n",
       "</style>\n",
       "<table border=\"1\" class=\"dataframe\">\n",
       "  <thead>\n",
       "    <tr style=\"text-align: right;\">\n",
       "      <th></th>\n",
       "      <th>CUS_ID</th>\n",
       "      <th>LAST_A_CCONTACT_DT</th>\n",
       "      <th>L1YR_A_ISSUE_CNT</th>\n",
       "      <th>LAST_A_ISSUE_DT</th>\n",
       "      <th>L1YR_B_ISSUE_CNT</th>\n",
       "      <th>LAST_B_ISSUE_DT</th>\n",
       "      <th>CHANNEL_A_POL_CNT</th>\n",
       "      <th>CHANNEL_B_POL_CNT</th>\n",
       "      <th>APC_CNT</th>\n",
       "      <th>INSD_CNT</th>\n",
       "      <th>...</th>\n",
       "      <th>2</th>\n",
       "      <th>3</th>\n",
       "      <th>4</th>\n",
       "      <th>1</th>\n",
       "      <th>2</th>\n",
       "      <th>3</th>\n",
       "      <th>4</th>\n",
       "      <th>5</th>\n",
       "      <th>6</th>\n",
       "      <th>7</th>\n",
       "    </tr>\n",
       "  </thead>\n",
       "  <tbody>\n",
       "    <tr>\n",
       "      <th>0</th>\n",
       "      <td>3418</td>\n",
       "      <td>1</td>\n",
       "      <td>0</td>\n",
       "      <td>0</td>\n",
       "      <td>0</td>\n",
       "      <td>0</td>\n",
       "      <td>0</td>\n",
       "      <td>0</td>\n",
       "      <td>0</td>\n",
       "      <td>0</td>\n",
       "      <td>...</td>\n",
       "      <td>0.0</td>\n",
       "      <td>0.0</td>\n",
       "      <td>0.0</td>\n",
       "      <td>0.0</td>\n",
       "      <td>1.0</td>\n",
       "      <td>0.0</td>\n",
       "      <td>0.0</td>\n",
       "      <td>0.0</td>\n",
       "      <td>0.0</td>\n",
       "      <td>0.0</td>\n",
       "    </tr>\n",
       "    <tr>\n",
       "      <th>1</th>\n",
       "      <td>4302</td>\n",
       "      <td>1</td>\n",
       "      <td>0</td>\n",
       "      <td>0</td>\n",
       "      <td>0</td>\n",
       "      <td>0</td>\n",
       "      <td>0</td>\n",
       "      <td>0</td>\n",
       "      <td>0</td>\n",
       "      <td>0</td>\n",
       "      <td>...</td>\n",
       "      <td>0.0</td>\n",
       "      <td>0.0</td>\n",
       "      <td>0.0</td>\n",
       "      <td>0.0</td>\n",
       "      <td>0.0</td>\n",
       "      <td>0.0</td>\n",
       "      <td>0.0</td>\n",
       "      <td>0.0</td>\n",
       "      <td>0.0</td>\n",
       "      <td>0.0</td>\n",
       "    </tr>\n",
       "    <tr>\n",
       "      <th>2</th>\n",
       "      <td>5545</td>\n",
       "      <td>1</td>\n",
       "      <td>1</td>\n",
       "      <td>1</td>\n",
       "      <td>0</td>\n",
       "      <td>0</td>\n",
       "      <td>1</td>\n",
       "      <td>0</td>\n",
       "      <td>1</td>\n",
       "      <td>0</td>\n",
       "      <td>...</td>\n",
       "      <td>0.0</td>\n",
       "      <td>0.0</td>\n",
       "      <td>0.0</td>\n",
       "      <td>0.0</td>\n",
       "      <td>0.0</td>\n",
       "      <td>0.0</td>\n",
       "      <td>0.0</td>\n",
       "      <td>0.0</td>\n",
       "      <td>0.0</td>\n",
       "      <td>0.0</td>\n",
       "    </tr>\n",
       "    <tr>\n",
       "      <th>3</th>\n",
       "      <td>7207</td>\n",
       "      <td>1</td>\n",
       "      <td>0</td>\n",
       "      <td>0</td>\n",
       "      <td>0</td>\n",
       "      <td>0</td>\n",
       "      <td>0</td>\n",
       "      <td>0</td>\n",
       "      <td>0</td>\n",
       "      <td>0</td>\n",
       "      <td>...</td>\n",
       "      <td>0.0</td>\n",
       "      <td>0.0</td>\n",
       "      <td>0.0</td>\n",
       "      <td>0.0</td>\n",
       "      <td>1.0</td>\n",
       "      <td>0.0</td>\n",
       "      <td>0.0</td>\n",
       "      <td>0.0</td>\n",
       "      <td>0.0</td>\n",
       "      <td>0.0</td>\n",
       "    </tr>\n",
       "    <tr>\n",
       "      <th>4</th>\n",
       "      <td>7213</td>\n",
       "      <td>0</td>\n",
       "      <td>0</td>\n",
       "      <td>0</td>\n",
       "      <td>0</td>\n",
       "      <td>0</td>\n",
       "      <td>1</td>\n",
       "      <td>0</td>\n",
       "      <td>1</td>\n",
       "      <td>0</td>\n",
       "      <td>...</td>\n",
       "      <td>0.0</td>\n",
       "      <td>0.0</td>\n",
       "      <td>0.0</td>\n",
       "      <td>0.0</td>\n",
       "      <td>1.0</td>\n",
       "      <td>0.0</td>\n",
       "      <td>0.0</td>\n",
       "      <td>0.0</td>\n",
       "      <td>0.0</td>\n",
       "      <td>0.0</td>\n",
       "    </tr>\n",
       "  </tbody>\n",
       "</table>\n",
       "<p>5 rows × 166 columns</p>\n",
       "</div>"
      ],
      "text/plain": [
       "   CUS_ID  LAST_A_CCONTACT_DT  L1YR_A_ISSUE_CNT  LAST_A_ISSUE_DT  \\\n",
       "0    3418                   1                 0                0   \n",
       "1    4302                   1                 0                0   \n",
       "2    5545                   1                 1                1   \n",
       "3    7207                   1                 0                0   \n",
       "4    7213                   0                 0                0   \n",
       "\n",
       "   L1YR_B_ISSUE_CNT  LAST_B_ISSUE_DT  CHANNEL_A_POL_CNT  CHANNEL_B_POL_CNT  \\\n",
       "0                 0                0                  0                  0   \n",
       "1                 0                0                  0                  0   \n",
       "2                 0                0                  1                  0   \n",
       "3                 0                0                  0                  0   \n",
       "4                 0                0                  1                  0   \n",
       "\n",
       "   APC_CNT  INSD_CNT  ...    2    3    4    1    2    3    4    5    6    7  \n",
       "0        0         0  ...  0.0  0.0  0.0  0.0  1.0  0.0  0.0  0.0  0.0  0.0  \n",
       "1        0         0  ...  0.0  0.0  0.0  0.0  0.0  0.0  0.0  0.0  0.0  0.0  \n",
       "2        1         0  ...  0.0  0.0  0.0  0.0  0.0  0.0  0.0  0.0  0.0  0.0  \n",
       "3        0         0  ...  0.0  0.0  0.0  0.0  1.0  0.0  0.0  0.0  0.0  0.0  \n",
       "4        1         0  ...  0.0  0.0  0.0  0.0  1.0  0.0  0.0  0.0  0.0  0.0  \n",
       "\n",
       "[5 rows x 166 columns]"
      ]
     },
     "execution_count": 31,
     "metadata": {},
     "output_type": "execute_result"
    }
   ],
   "source": [
    "#做onehot轉換\n",
    "from sklearn.preprocessing import LabelEncoder\n",
    "from sklearn.preprocessing import OneHotEncoder\n",
    "\n",
    "encoder1 = LabelEncoder()\n",
    "encoder2 = OneHotEncoder(sparse=False, categories='auto')\n",
    "\n",
    "for i in range(0, len(onehot_encoder_feature)):\n",
    "    feature = onehot_encoder_feature[i]\n",
    "    data[feature] = encoder1.fit_transform(data[feature])\n",
    "    b = encoder2.fit_transform(np.array(data[feature]).reshape(-1,1))\n",
    "    data = pd.concat([data, pd.DataFrame(b).iloc[:, 1:]], axis=1)\n",
    "data = data.drop(onehot_encoder_feature, axis = 1)\n",
    "data.head()"
   ]
  },
  {
   "cell_type": "code",
   "execution_count": 32,
   "metadata": {},
   "outputs": [],
   "source": [
    "#刪除ID\n",
    "data.drop('CUS_ID', axis = 1, inplace = True)"
   ]
  },
  {
   "cell_type": "markdown",
   "metadata": {},
   "source": [
    "# feature selection"
   ]
  },
  {
   "cell_type": "markdown",
   "metadata": {},
   "source": [
    "### constant feature"
   ]
  },
  {
   "cell_type": "code",
   "execution_count": 33,
   "metadata": {},
   "outputs": [
    {
     "name": "stderr",
     "output_type": "stream",
     "text": [
      "c:\\Users\\Julie\\Documents\\Python\\.venv\\lib\\site-packages\\sklearn\\utils\\validation.py:1688: FutureWarning: Feature names only support names that are all strings. Got feature names with dtypes: ['int', 'str']. An error will be raised in 1.2.\n",
      "  warnings.warn(\n"
     ]
    },
    {
     "data": {
      "text/plain": [
       "VarianceThreshold(threshold=0)"
      ]
     },
     "execution_count": 33,
     "metadata": {},
     "output_type": "execute_result"
    }
   ],
   "source": [
    "#drop constant feature\n",
    "from sklearn.feature_selection import VarianceThreshold\n",
    "\n",
    "sel = VarianceThreshold(threshold=0)\n",
    "sel.fit(data)"
   ]
  },
  {
   "cell_type": "code",
   "execution_count": 34,
   "metadata": {},
   "outputs": [
    {
     "name": "stdout",
     "output_type": "stream",
     "text": [
      "0\n"
     ]
    },
    {
     "data": {
      "text/plain": [
       "[]"
      ]
     },
     "execution_count": 34,
     "metadata": {},
     "output_type": "execute_result"
    }
   ],
   "source": [
    "print(\n",
    "    len([\n",
    "        x for x in data.columns\n",
    "        if x not in data.columns[sel.get_support()]\n",
    "    ]))\n",
    "constant_feature = [x for x in data.columns if x not in data.columns[sel.get_support()]]\n",
    "constant_feature"
   ]
  },
  {
   "cell_type": "code",
   "execution_count": 35,
   "metadata": {},
   "outputs": [
    {
     "data": {
      "text/plain": [
       "(250000, 165)"
      ]
     },
     "execution_count": 35,
     "metadata": {},
     "output_type": "execute_result"
    }
   ],
   "source": [
    "data.drop(constant_feature, axis = 1, inplace = True)\n",
    "data.shape"
   ]
  },
  {
   "cell_type": "markdown",
   "metadata": {},
   "source": [
    "### quasi-constant feature"
   ]
  },
  {
   "cell_type": "code",
   "execution_count": 36,
   "metadata": {},
   "outputs": [
    {
     "name": "stderr",
     "output_type": "stream",
     "text": [
      "c:\\Users\\Julie\\Documents\\Python\\.venv\\lib\\site-packages\\sklearn\\utils\\validation.py:1688: FutureWarning: Feature names only support names that are all strings. Got feature names with dtypes: ['int', 'str']. An error will be raised in 1.2.\n",
      "  warnings.warn(\n"
     ]
    },
    {
     "data": {
      "text/plain": [
       "VarianceThreshold(threshold=0.01)"
      ]
     },
     "execution_count": 36,
     "metadata": {},
     "output_type": "execute_result"
    }
   ],
   "source": [
    "#drop quasi-constant feature\n",
    "sel = VarianceThreshold(threshold=0.01)\n",
    "sel.fit(data)"
   ]
  },
  {
   "cell_type": "code",
   "execution_count": 37,
   "metadata": {},
   "outputs": [
    {
     "name": "stdout",
     "output_type": "stream",
     "text": [
      "38\n"
     ]
    },
    {
     "data": {
      "text/plain": [
       "['L1YR_B_ISSUE_CNT',\n",
       " 'LAST_B_ISSUE_DT',\n",
       " 'IF_ISSUE_B_IND',\n",
       " 'IF_ISSUE_E_IND',\n",
       " 'IF_ISSUE_H_IND',\n",
       " 'IF_ISSUE_K_IND',\n",
       " 'IF_ISSUE_L_IND',\n",
       " 'IF_ISSUE_M_IND',\n",
       " 'IF_ADD_G_IND',\n",
       " 'ANNUAL_PREMIUM_AMT',\n",
       " 'ANNUAL_INCOME_AMT',\n",
       " 'C_IND',\n",
       " 'BANK_NUMBER_CNT',\n",
       " 'BMI',\n",
       " 'IM_IS_A_IND',\n",
       " 'X_F_IND',\n",
       " 'X_G_IND',\n",
       " 'DIEBENEFIT_AMT',\n",
       " 'DIEACCIDENT_AMT',\n",
       " 'POLICY_VALUE_AMT',\n",
       " 'ANNUITY_AMT',\n",
       " 'EXPIRATION_AMT',\n",
       " 'OUTPATIENT_SURGERY_AMT',\n",
       " 'INPATIENT_SURGERY_AMT',\n",
       " 'FIRST_CANCER_AMT',\n",
       " 'ILL_ACCELERATION_AMT',\n",
       " 'ILL_ADDITIONAL_AMT',\n",
       " 'LONG_TERM_CARE_AMT',\n",
       " 'MONTHLY_CARE_AMT',\n",
       " 'LIFE_INSD_CNT',\n",
       " 'IF_ISSUE_INSD_E_IND',\n",
       " 'IF_ISSUE_INSD_H_IND',\n",
       " 'IF_ISSUE_INSD_K_IND',\n",
       " 'IF_ISSUE_INSD_L_IND',\n",
       " 'IF_ISSUE_INSD_M_IND',\n",
       " 'IF_ADD_INSD_G_IND',\n",
       " 'L1YR_GROSS_PRE_AMT',\n",
       " 'FINANCETOOLS_E']"
      ]
     },
     "execution_count": 37,
     "metadata": {},
     "output_type": "execute_result"
    }
   ],
   "source": [
    "print(\n",
    "    len([\n",
    "        x for x in data.columns\n",
    "        if x not in data.columns[sel.get_support()]\n",
    "    ]))\n",
    "\n",
    "quasi_constant_feature = [x for x in data.columns if x not in data.columns[sel.get_support()]]\n",
    "quasi_constant_feature"
   ]
  },
  {
   "cell_type": "code",
   "execution_count": 38,
   "metadata": {},
   "outputs": [
    {
     "data": {
      "text/plain": [
       "(250000, 127)"
      ]
     },
     "execution_count": 38,
     "metadata": {},
     "output_type": "execute_result"
    }
   ],
   "source": [
    "data.drop(quasi_constant_feature, axis = 1, inplace = True)\n",
    "#X_train = sel.transform(data)\n",
    "data.shape"
   ]
  },
  {
   "cell_type": "markdown",
   "metadata": {},
   "source": [
    "### duplicated feature"
   ]
  },
  {
   "cell_type": "code",
   "execution_count": 39,
   "metadata": {},
   "outputs": [
    {
     "name": "stdout",
     "output_type": "stream",
     "text": [
      "0\n",
      "10\n",
      "20\n",
      "30\n",
      "40\n",
      "50\n",
      "60\n",
      "70\n",
      "80\n",
      "90\n",
      "100\n",
      "110\n",
      "120\n"
     ]
    },
    {
     "data": {
      "text/plain": [
       "161"
      ]
     },
     "execution_count": 39,
     "metadata": {},
     "output_type": "execute_result"
    }
   ],
   "source": [
    "# check for duplicated features in the training set\n",
    "duplicated_feat = []\n",
    "for i in range(0, len(data.columns)):\n",
    "    if i % 10 == 0:  # this helps me understand how the loop is going\n",
    "        print(i)\n",
    "    col_1 = data.columns[i]\n",
    "    \n",
    "    for col_2 in data.columns[i + 1:]:\n",
    "        if data[col_1].equals(data[col_2]):\n",
    "            duplicated_feat.append(col_2)\n",
    "            \n",
    "len(duplicated_feat)"
   ]
  },
  {
   "cell_type": "code",
   "execution_count": 40,
   "metadata": {},
   "outputs": [],
   "source": [
    "data.drop(labels=duplicated_feat, axis=1, inplace=True)"
   ]
  },
  {
   "cell_type": "markdown",
   "metadata": {},
   "source": [
    "### correlation feature"
   ]
  },
  {
   "cell_type": "code",
   "execution_count": 41,
   "metadata": {},
   "outputs": [
    {
     "name": "stdout",
     "output_type": "stream",
     "text": [
      "correlated features:  8\n"
     ]
    }
   ],
   "source": [
    "# find and remove correlated features\n",
    "def correlation(dataset, threshold):\n",
    "    col_corr = set()  # Set of all the names of correlated columns\n",
    "    corr_matrix = dataset.corr()\n",
    "    for i in range(len(corr_matrix.columns)):\n",
    "        for j in range(i):\n",
    "            if abs(corr_matrix.iloc[i, j]) > threshold: # we are interested in absolute coeff value\n",
    "                colname = corr_matrix.columns[i]  # getting the name of column\n",
    "                col_corr.add(colname)\n",
    "    return col_corr\n",
    " \n",
    "corr_features = correlation(data, 0.8)\n",
    "print('correlated features: ', len(set(corr_features)) )"
   ]
  },
  {
   "cell_type": "code",
   "execution_count": 42,
   "metadata": {},
   "outputs": [
    {
     "data": {
      "text/plain": [
       "(250000, 73)"
      ]
     },
     "execution_count": 42,
     "metadata": {},
     "output_type": "execute_result"
    }
   ],
   "source": [
    "data.drop(labels=corr_features, axis=1, inplace=True)\n",
    "data.shape"
   ]
  },
  {
   "cell_type": "code",
   "execution_count": 43,
   "metadata": {},
   "outputs": [],
   "source": [
    "#onehot完會有column名稱重複，因此重新排序\n",
    "data.columns = range(data.shape[1])"
   ]
  },
  {
   "cell_type": "code",
   "execution_count": 44,
   "metadata": {},
   "outputs": [
    {
     "data": {
      "text/html": [
       "<div>\n",
       "<style scoped>\n",
       "    .dataframe tbody tr th:only-of-type {\n",
       "        vertical-align: middle;\n",
       "    }\n",
       "\n",
       "    .dataframe tbody tr th {\n",
       "        vertical-align: top;\n",
       "    }\n",
       "\n",
       "    .dataframe thead th {\n",
       "        text-align: right;\n",
       "    }\n",
       "</style>\n",
       "<table border=\"1\" class=\"dataframe\">\n",
       "  <thead>\n",
       "    <tr style=\"text-align: right;\">\n",
       "      <th></th>\n",
       "      <th>0</th>\n",
       "      <th>1</th>\n",
       "      <th>2</th>\n",
       "      <th>3</th>\n",
       "      <th>4</th>\n",
       "      <th>5</th>\n",
       "      <th>6</th>\n",
       "      <th>7</th>\n",
       "      <th>8</th>\n",
       "      <th>9</th>\n",
       "      <th>...</th>\n",
       "      <th>63</th>\n",
       "      <th>64</th>\n",
       "      <th>65</th>\n",
       "      <th>66</th>\n",
       "      <th>67</th>\n",
       "      <th>68</th>\n",
       "      <th>69</th>\n",
       "      <th>70</th>\n",
       "      <th>71</th>\n",
       "      <th>72</th>\n",
       "    </tr>\n",
       "  </thead>\n",
       "  <tbody>\n",
       "  </tbody>\n",
       "</table>\n",
       "<p>0 rows × 73 columns</p>\n",
       "</div>"
      ],
      "text/plain": [
       "Empty DataFrame\n",
       "Columns: [0, 1, 2, 3, 4, 5, 6, 7, 8, 9, 10, 11, 12, 13, 14, 15, 16, 17, 18, 19, 20, 21, 22, 23, 24, 25, 26, 27, 28, 29, 30, 31, 32, 33, 34, 35, 36, 37, 38, 39, 40, 41, 42, 43, 44, 45, 46, 47, 48, 49, 50, 51, 52, 53, 54, 55, 56, 57, 58, 59, 60, 61, 62, 63, 64, 65, 66, 67, 68, 69, 70, 71, 72]\n",
       "Index: []\n",
       "\n",
       "[0 rows x 73 columns]"
      ]
     },
     "execution_count": 44,
     "metadata": {},
     "output_type": "execute_result"
    }
   ],
   "source": [
    "data[data.isnull().any(axis=1)].head()"
   ]
  },
  {
   "cell_type": "code",
   "execution_count": 45,
   "metadata": {},
   "outputs": [],
   "source": [
    "#切割資料\n",
    "x_train=data.iloc[:100000,:]\n",
    "x_test=data.iloc[100000:,:]\n",
    "y_train=y.iloc[:100000]\n",
    "y_test=y.iloc[100000:]"
   ]
  },
  {
   "cell_type": "markdown",
   "metadata": {},
   "source": [
    "# 驗證集"
   ]
  },
  {
   "cell_type": "code",
   "execution_count": 46,
   "metadata": {},
   "outputs": [],
   "source": [
    "##測roc用\n",
    "from sklearn.model_selection import train_test_split\n",
    "\n",
    "x_val_train, x_val_test, y_val_train, y_val_test = train_test_split(x_train, y_train, test_size=0.30,random_state=101)"
   ]
  },
  {
   "cell_type": "markdown",
   "metadata": {
    "scrolled": true
   },
   "source": [
    "# 模型"
   ]
  },
  {
   "cell_type": "code",
   "execution_count": 53,
   "metadata": {
    "scrolled": true
   },
   "outputs": [
    {
     "name": "stderr",
     "output_type": "stream",
     "text": [
      "c:\\Users\\Julie\\Documents\\Python\\.venv\\lib\\site-packages\\xgboost\\sklearn.py:1224: UserWarning: The use of label encoder in XGBClassifier is deprecated and will be removed in a future release. To remove this warning, do the following: 1) Pass option use_label_encoder=False when constructing XGBClassifier object; and 2) Encode your labels (y) as integers starting with 0, i.e. 0, 1, 2, ..., [num_class - 1].\n",
      "  warnings.warn(label_encoder_deprecation_msg, UserWarning)\n"
     ]
    },
    {
     "name": "stdout",
     "output_type": "stream",
     "text": [
      "[15:19:33] WARNING: C:/Users/Administrator/workspace/xgboost-win64_release_1.5.1/src/learner.cc:1115: Starting in XGBoost 1.3.0, the default evaluation metric used with the objective 'binary:logistic' was changed from 'error' to 'logloss'. Explicitly set eval_metric if you'd like to restore the old behavior.\n"
     ]
    },
    {
     "data": {
      "text/plain": [
       "XGBClassifier(base_score=0.5, booster='gbtree', colsample_bylevel=1,\n",
       "              colsample_bynode=1, colsample_bytree=1, enable_categorical=False,\n",
       "              gamma=0, gpu_id=-1, importance_type=None,\n",
       "              interaction_constraints='', learning_rate=0.300000012,\n",
       "              max_delta_step=0, max_depth=6, min_child_weight=1, missing=nan,\n",
       "              monotone_constraints='()', n_estimators=100, n_jobs=12,\n",
       "              num_parallel_tree=1, predictor='auto', random_state=0,\n",
       "              reg_alpha=0, reg_lambda=1, scale_pos_weight=1, subsample=1,\n",
       "              tree_method='exact', validate_parameters=1, verbosity=None)"
      ]
     },
     "execution_count": 53,
     "metadata": {},
     "output_type": "execute_result"
    }
   ],
   "source": [
    "from xgboost import XGBClassifier\n",
    "\n",
    "xgb = XGBClassifier()\n",
    "xgb.fit(x_val_train,y_val_train)"
   ]
  },
  {
   "cell_type": "code",
   "execution_count": 54,
   "metadata": {},
   "outputs": [
    {
     "data": {
      "text/plain": [
       "array([0., 0., 0., ..., 0., 0., 0.])"
      ]
     },
     "execution_count": 54,
     "metadata": {},
     "output_type": "execute_result"
    }
   ],
   "source": [
    "xgb_pred = xgb.predict(x_val_test)\n",
    "xgb_pred"
   ]
  },
  {
   "cell_type": "code",
   "execution_count": 55,
   "metadata": {
    "scrolled": true
   },
   "outputs": [
    {
     "data": {
      "text/plain": [
       "RandomForestClassifier(n_estimators=10)"
      ]
     },
     "execution_count": 55,
     "metadata": {},
     "output_type": "execute_result"
    }
   ],
   "source": [
    "from sklearn.ensemble import RandomForestClassifier\n",
    "\n",
    "rfc = RandomForestClassifier(n_estimators=10)\n",
    "rfc.fit(x_val_train,y_val_train)"
   ]
  },
  {
   "cell_type": "code",
   "execution_count": 56,
   "metadata": {},
   "outputs": [
    {
     "data": {
      "text/plain": [
       "array([0., 0., 0., ..., 0., 0., 0.])"
      ]
     },
     "execution_count": 56,
     "metadata": {},
     "output_type": "execute_result"
    }
   ],
   "source": [
    "rfc_pred = rfc.predict(x_val_test)\n",
    "rfc_pred"
   ]
  },
  {
   "cell_type": "code",
   "execution_count": 59,
   "metadata": {
    "scrolled": true
   },
   "outputs": [
    {
     "data": {
      "text/html": [
       "<div>\n",
       "<style scoped>\n",
       "    .dataframe tbody tr th:only-of-type {\n",
       "        vertical-align: middle;\n",
       "    }\n",
       "\n",
       "    .dataframe tbody tr th {\n",
       "        vertical-align: top;\n",
       "    }\n",
       "\n",
       "    .dataframe thead th {\n",
       "        text-align: right;\n",
       "    }\n",
       "</style>\n",
       "<table border=\"1\" class=\"dataframe\">\n",
       "  <thead>\n",
       "    <tr style=\"text-align: right;\">\n",
       "      <th></th>\n",
       "      <th>LAST_A_CCONTACT_DT</th>\n",
       "      <th>LAST_A_ISSUE_DT</th>\n",
       "    </tr>\n",
       "  </thead>\n",
       "  <tbody>\n",
       "    <tr>\n",
       "      <th>0</th>\n",
       "      <td>Y</td>\n",
       "      <td>Y</td>\n",
       "    </tr>\n",
       "    <tr>\n",
       "      <th>1</th>\n",
       "      <td>N</td>\n",
       "      <td>N</td>\n",
       "    </tr>\n",
       "    <tr>\n",
       "      <th>2</th>\n",
       "      <td>N</td>\n",
       "      <td>N</td>\n",
       "    </tr>\n",
       "    <tr>\n",
       "      <th>3</th>\n",
       "      <td>N</td>\n",
       "      <td>N</td>\n",
       "    </tr>\n",
       "    <tr>\n",
       "      <th>4</th>\n",
       "      <td>Y</td>\n",
       "      <td>Y</td>\n",
       "    </tr>\n",
       "    <tr>\n",
       "      <th>...</th>\n",
       "      <td>...</td>\n",
       "      <td>...</td>\n",
       "    </tr>\n",
       "    <tr>\n",
       "      <th>149995</th>\n",
       "      <td>Y</td>\n",
       "      <td>N</td>\n",
       "    </tr>\n",
       "    <tr>\n",
       "      <th>149996</th>\n",
       "      <td>Y</td>\n",
       "      <td>Y</td>\n",
       "    </tr>\n",
       "    <tr>\n",
       "      <th>149997</th>\n",
       "      <td>Y</td>\n",
       "      <td>N</td>\n",
       "    </tr>\n",
       "    <tr>\n",
       "      <th>149998</th>\n",
       "      <td>Y</td>\n",
       "      <td>N</td>\n",
       "    </tr>\n",
       "    <tr>\n",
       "      <th>149999</th>\n",
       "      <td>N</td>\n",
       "      <td>N</td>\n",
       "    </tr>\n",
       "  </tbody>\n",
       "</table>\n",
       "<p>150000 rows × 2 columns</p>\n",
       "</div>"
      ],
      "text/plain": [
       "       LAST_A_CCONTACT_DT LAST_A_ISSUE_DT\n",
       "0                       Y               Y\n",
       "1                       N               N\n",
       "2                       N               N\n",
       "3                       N               N\n",
       "4                       Y               Y\n",
       "...                   ...             ...\n",
       "149995                  Y               N\n",
       "149996                  Y               Y\n",
       "149997                  Y               N\n",
       "149998                  Y               N\n",
       "149999                  N               N\n",
       "\n",
       "[150000 rows x 2 columns]"
      ]
     },
     "execution_count": 59,
     "metadata": {},
     "output_type": "execute_result"
    }
   ],
   "source": [
    "X = test.iloc[:,[7,9]]\n",
    "X"
   ]
  },
  {
   "cell_type": "markdown",
   "metadata": {},
   "source": [
    "# 準確度測試"
   ]
  },
  {
   "cell_type": "code",
   "execution_count": 61,
   "metadata": {},
   "outputs": [
    {
     "data": {
      "text/plain": [
       "0.503162963375165"
      ]
     },
     "execution_count": 61,
     "metadata": {},
     "output_type": "execute_result"
    }
   ],
   "source": [
    "from sklearn.metrics import roc_auc_score\n",
    "\n",
    "roc_auc_score(y_val_test, xgb_pred)"
   ]
  },
  {
   "cell_type": "code",
   "execution_count": 62,
   "metadata": {},
   "outputs": [
    {
     "data": {
      "text/plain": [
       "0.5074070982559047"
      ]
     },
     "execution_count": 62,
     "metadata": {},
     "output_type": "execute_result"
    }
   ],
   "source": [
    "from sklearn.metrics import roc_auc_score\n",
    "\n",
    "roc_auc_score(y_val_test, rfc_pred)"
   ]
  },
  {
   "cell_type": "markdown",
   "metadata": {},
   "source": [
    "# 匯出檔案"
   ]
  },
  {
   "cell_type": "code",
   "execution_count": null,
   "metadata": {},
   "outputs": [],
   "source": [
    "a = test['CUS_ID']\n",
    "b = pd.concat([a, pd.DataFrame(xgb_pred)], axis=1)\n",
    "b.columns = ['CUS_ID', 'Ypred']\n",
    "b.head()"
   ]
  },
  {
   "cell_type": "code",
   "execution_count": null,
   "metadata": {},
   "outputs": [],
   "source": [
    "from pandas import DataFrame\n",
    "df=DataFrame(b)\n",
    "df.to_csv('submit_test.csv')"
   ]
  }
 ],
 "metadata": {
  "kernelspec": {
   "display_name": "Python 3",
   "language": "python",
   "name": "python3"
  },
  "language_info": {
   "codemirror_mode": {
    "name": "ipython",
    "version": 3
   },
   "file_extension": ".py",
   "mimetype": "text/x-python",
   "name": "python",
   "nbconvert_exporter": "python",
   "pygments_lexer": "ipython3",
   "version": "3.8.9"
  }
 },
 "nbformat": 4,
 "nbformat_minor": 2
}
